{
 "cells": [
  {
   "cell_type": "code",
   "execution_count": 1,
   "id": "b279b193",
   "metadata": {},
   "outputs": [],
   "source": [
    "import numpy as np\n",
    "\n",
    "# Load data from text files\n",
    "xdata = np.loadtxt('xdata.txt')\n",
    "ydata = np.loadtxt('data150_6.txt')\n",
    "\n",
    "n_mask = int(len(ydata) * 0.2)\n",
    "mask_indices = np.random.choice(len(ydata), size=n_mask, replace=False)\n",
    "ydata_masked = ydata.copy()\n",
    "ydata_masked[mask_indices] = np.nan\n",
    "\n",
    "mask = np.logical_not(np.isnan(ydata_masked))\n",
    "# Apply the mask to the data\n",
    "xdata = xdata[mask]\n",
    "ydata = ydata[mask]\n",
    "\n",
    "np.savetxt('xdata_mask20.txt', xdata)\n",
    "np.savetxt('ydata_mask20.txt', ydata)"
   ]
  },
  {
   "cell_type": "code",
   "execution_count": 2,
   "id": "3895420d",
   "metadata": {},
   "outputs": [
    {
     "name": "stdout",
     "output_type": "stream",
     "text": [
      "SNR  45.29237950992507\n"
     ]
    }
   ],
   "source": [
    "import numpy as np\n",
    "\n",
    "# Load data from text files\n",
    "xdata = np.loadtxt('xdata.txt')\n",
    "ydata = np.loadtxt('data150_6.txt')\n",
    "\n",
    "SNR = 20 * np.log10(np.max(ydata)) - 20 * np.log10(np.std(ydata))\n",
    "print('SNR ', SNR)\n",
    "\n",
    "noise_amplitude = max(ydata) / (5**(SNR/20))\n",
    "\n",
    "ydata = ydata + np.random.normal(scale=noise_amplitude, size=len(ydata))\n",
    "\n",
    "\n",
    "np.savetxt('xdata_noisy5dB.txt', xdata)\n",
    "np.savetxt('ydata_noisy5dB.txt', ydata)"
   ]
  },
  {
   "cell_type": "code",
   "execution_count": null,
   "id": "cec4dc30",
   "metadata": {},
   "outputs": [],
   "source": []
  }
 ],
 "metadata": {
  "kernelspec": {
   "display_name": "Python 3 (ipykernel)",
   "language": "python",
   "name": "python3"
  },
  "language_info": {
   "codemirror_mode": {
    "name": "ipython",
    "version": 3
   },
   "file_extension": ".py",
   "mimetype": "text/x-python",
   "name": "python",
   "nbconvert_exporter": "python",
   "pygments_lexer": "ipython3",
   "version": "3.9.16"
  }
 },
 "nbformat": 4,
 "nbformat_minor": 5
}
