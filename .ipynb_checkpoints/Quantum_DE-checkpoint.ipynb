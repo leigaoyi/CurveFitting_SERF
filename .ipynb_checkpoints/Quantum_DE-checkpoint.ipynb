{
 "cells": [
  {
   "cell_type": "code",
   "execution_count": null,
   "id": "52da4079",
   "metadata": {},
   "outputs": [],
   "source": []
  },
  {
   "cell_type": "code",
   "execution_count": null,
   "id": "28b006c3",
   "metadata": {},
   "outputs": [],
   "source": []
  },
  {
   "cell_type": "code",
   "execution_count": 121,
   "id": "a134dd6b",
   "metadata": {},
   "outputs": [],
   "source": [
    "import numpy as np\n",
    "from pyDOE import lhs\n",
    "from scipy.stats import entropy,wasserstein_distance\n",
    "from scipy.spatial.distance import jensenshannon\n",
    "\n",
    "class QuantumInspiredDE:\n",
    "    def __init__(self, xdata, ydata, pop_size=15, max_iterations=500):\n",
    "        self.xdata = xdata\n",
    "        self.ydata = ydata\n",
    "        self.pop_size = pop_size\n",
    "        self.max_iterations = max_iterations\n",
    "        self.n_params = 5\n",
    "        self.param_bounds = [(0, 5), (0, 5), (0, 2*np.pi), (0, 5), (0, 5)]\n",
    "        self.success_degree = 0.5\n",
    "        self.loss_list = []\n",
    "        self.success_rate = 0.0\n",
    "        self.population = None\n",
    "        self.best_pop = None\n",
    "\n",
    "    def func(self, x, params):\n",
    "        a, b, omega, phi, c = params\n",
    "        return a * np.exp(-b * x) * np.sin(omega * x + phi) + c\n",
    "\n",
    "    def func_F0(self):\n",
    "        x = np.random.uniform(0, 1)\n",
    "        F0 = 2/np.sqrt(3)*np.pi**(-1/4)*(1-x**2)*np.exp(-x**2/2)\n",
    "        return F0\n",
    "\n",
    "    def objective_function_L2(self, params):\n",
    "        y_pred = self.func(self.xdata, params)\n",
    "        error = self.ydata - y_pred\n",
    "        return np.sum(error**2)\n",
    "    \n",
    "    def objective_function_entropy(self, params):\n",
    "        y_pred = self.func(self.xdata, params)\n",
    "        error = self.ydata - y_pred\n",
    "        return entropy(self.ydata, y_pred)\n",
    "    \n",
    "    def objective_function(self, params):\n",
    "        y_pred = self.func(self.xdata, params)\n",
    "        error = self.ydata - y_pred\n",
    "        return np.sum(error**2)\n",
    "    \n",
    "\n",
    "    def mutation_strategy(self, population, F=0.8, CR=0.7):\n",
    "        trial_population = np.zeros_like(population)\n",
    "        if self.success_rate > self.success_degree:\n",
    "            CR += 0.05\n",
    "        else:\n",
    "            CR -= 0.05\n",
    "        CR = np.clip(CR, 0.2, 0.9)\n",
    "        \n",
    "        if F is None:\n",
    "            F = 0.8\n",
    "\n",
    "        if self.success_rate > self.success_degree:\n",
    "            F *= 1.1\n",
    "        else:\n",
    "            F *= 0.9\n",
    "\n",
    "        F = np.clip(F, 0.2, 1.0)\n",
    "\n",
    "        for i in range(len(population)):\n",
    "            a, b, c = population[np.random.choice(len(population), size=3, replace=False)]\n",
    "\n",
    "            neg_part = np.where(b-c < 0, b-c, 0) \n",
    "            random_neg = np.random.uniform(neg_part, 0, size=np.shape(neg_part))\n",
    "            pos_part = np.where(b-c > 0, b-c, 0)\n",
    "            random_pos = np.random.uniform(0, pos_part, size=np.shape(pos_part))\n",
    "\n",
    "            random_quantum = random_neg + random_pos\n",
    "            mutant = np.clip(a + F * random_quantum, 0, 5)\n",
    "\n",
    "            crossover_mask = np.random.rand(self.n_params) < CR\n",
    "            trial = np.where(crossover_mask, mutant, population[i])\n",
    "\n",
    "            if np.array_equal(trial, population[i]):\n",
    "                j = np.random.choice(self.n_params)\n",
    "                trial[j] = mutant[j]\n",
    "\n",
    "            trial_population[i] = trial\n",
    "            \n",
    "\n",
    "        return trial_population\n",
    "\n",
    "    def convergence_criterion_met(self, param):\n",
    "#         if np.min(param) < 5e-3:\n",
    "#             return True\n",
    "#         else:\n",
    "        return False\n",
    "\n",
    "    def fitness(self, population):\n",
    "        fitting = [self.objective_function(params) for params in population]  \n",
    "        #print(fitting)\n",
    "        return fitting\n",
    "\n",
    "    def optimize(self):\n",
    "        # Generate initial population\n",
    "        lhs_samples = lhs(len(self.param_bounds), samples=self.pop_size, criterion='maximin')\n",
    "        self.population = np.zeros((self.pop_size, len(self.param_bounds)))\n",
    "        for i, bounds in enumerate(self.param_bounds):\n",
    "            self.population[:, i] = bounds[0] + lhs_samples[:, i] * (bounds[1] - bounds[0])\n",
    "\n",
    "        # Iterate over generations\n",
    "        for i in range(self.max_iterations):            \n",
    "            trial_population = self.mutation_strategy(self.population, F=self.success_rate)\n",
    "            trial_fitness = self.fitness(trial_population)\n",
    "            origin_fitness = self.fitness(self.population)\n",
    "            best_index = np.argmin(trial_fitness)\n",
    "\n",
    "            self.success_rate = 0.0\n",
    "            for j in range(self.pop_size):\n",
    "                if trial_fitness[j] < origin_fitness[j]:\n",
    "                    self.success_rate += 1.0\n",
    "            self.success_rate /= self.pop_size\n",
    "\n",
    "            if trial_fitness[best_index] < self.fitness(self.population)[best_index]:\n",
    "                self.population[best_index] = trial_population[best_index]\n",
    "\n",
    "            self.loss_list.append(self.objective_function_L2(self.population[best_index]))\n",
    "\n",
    "            if self.convergence_criterion_met(self.fitness(self.population)):\n",
    "                print('Convergence criterion met.')\n",
    "                break\n",
    "        self.best_pop = self.population[best_index]\n",
    "        print('Quantum-inspired DE result:', self.population[best_index], self.loss_list[-1])\n",
    "\n"
   ]
  },
  {
   "cell_type": "code",
   "execution_count": 122,
   "id": "a58fa6a7",
   "metadata": {},
   "outputs": [
    {
     "name": "stdout",
     "output_type": "stream",
     "text": [
      "Quantum-inspired DE result: [0.09263203 0.18907376 1.75746173 1.82337106 2.59106278] 0.007321613140689431\n"
     ]
    },
    {
     "data": {
      "image/png": "[encoded data removed]",
      "text/plain": [
       "<Figure size 640x480 with 1 Axes>"
      ]
     },
     "metadata": {},
     "output_type": "display_data"
    }
   ],
   "source": [
    "xdata = np.loadtxt('xdata.txt')\n",
    "ydata = np.loadtxt('data150_6.txt')\n",
    "\n",
    "de = QuantumInspiredDE(xdata, ydata)\n",
    "de.optimize()\n",
    "\n",
    "import matplotlib.pyplot as plt\n",
    "plt.semilogy(range(1, len(de.loss_list)+1), de.loss_list)\n",
    "plt.xlabel('Iteration')\n",
    "plt.ylabel('Loss (log-scale)')\n",
    "plt.title('Quantum Inspired Optimization Progress')\n",
    "plt.show()\n"
   ]
  },
  {
   "cell_type": "code",
   "execution_count": 123,
   "id": "4b63b427",
   "metadata": {},
   "outputs": [
    {
     "data": {
      "text/plain": [
       "array([0.09263203, 0.18907376, 1.75746173, 1.82337106, 2.59106278])"
      ]
     },
     "execution_count": 123,
     "metadata": {},
     "output_type": "execute_result"
    }
   ],
   "source": [
    "de.best_pop"
   ]
  },
  {
   "cell_type": "code",
   "execution_count": 124,
   "id": "f11ea31a",
   "metadata": {},
   "outputs": [],
   "source": [
    "# Inspried DE  [0.09266477 0.18910248 1.75727822 1.82425376 2.59106498] 0.0073221572179695\n",
    "\n"
   ]
  },
  {
   "cell_type": "code",
   "execution_count": 125,
   "id": "dfd3bc69",
   "metadata": {},
   "outputs": [
    {
     "name": "stdout",
     "output_type": "stream",
     "text": [
      "Quantum-inspired DE result: [0.09271669 0.18927573 1.75789314 1.82056634 2.59106417] 0.005984888124732574\n",
      "Quantum-inspired DE result: [0.09288846 0.19031859 1.75840104 1.81786565 2.59107735] 0.006000166776066432\n",
      "Quantum-inspired DE result: [0.0932972  0.19135812 1.76048387 1.81184872 2.59027174] 0.009030257389357754\n",
      "Quantum-inspired DE result: [0.09275128 0.18950028 1.75790704 1.82039513 2.59105656] 0.005985682670259248\n",
      "Quantum-inspired DE result: [0.09275043 0.18941967 1.75773299 1.82084828 2.59106325] 0.005985308251167307\n",
      "Quantum-inspired DE result: [0.09259972 0.1890633  1.75779951 1.82115334 2.59105897] 0.005986183404616279\n",
      "Quantum-inspired DE result: [0.09271063 0.18924869 1.7579016  1.8205289  2.59106418] 0.005984883989862133\n",
      "Quantum-inspired DE result: [0.09268576 0.18917354 1.7579331  1.82034558 2.5910639 ] 0.005984944281905933\n",
      "Quantum-inspired DE result: [0.09267006 0.18935338 1.75870626 1.81571676 2.5903244 ] 0.008591414907936752\n",
      "Quantum-inspired DE result: [0.09271168 0.18922987 1.75795218 1.82040788 2.59106174] 0.005984941848584329\n",
      "Quantum-inspired DE result: [0.092506   0.18905075 1.76177573 1.80754971 2.59024755] 0.009212452714299253\n",
      "Quantum-inspired DE result: [0.09271612 0.18926074 1.75791172 1.8205073  2.59106415] 0.005984886628552613\n"
     ]
    },
    {
     "ename": "PermissionError",
     "evalue": "[Errno 13] Permission denied: './data/results_QI_DE_mask20.csv'",
     "output_type": "error",
     "traceback": [
      "\u001b[1;31m---------------------------------------------------------------------------\u001b[0m",
      "\u001b[1;31mPermissionError\u001b[0m                           Traceback (most recent call last)",
      "Cell \u001b[1;32mIn[125], line 39\u001b[0m\n\u001b[0;32m     30\u001b[0m     results\u001b[38;5;241m.\u001b[39mappend({\n\u001b[0;32m     31\u001b[0m         \u001b[38;5;124m'\u001b[39m\u001b[38;5;124mrun\u001b[39m\u001b[38;5;124m'\u001b[39m: i \u001b[38;5;241m+\u001b[39m \u001b[38;5;241m1\u001b[39m,\n\u001b[0;32m     32\u001b[0m         \u001b[38;5;124m'\u001b[39m\u001b[38;5;124mmethod\u001b[39m\u001b[38;5;124m'\u001b[39m: method,\n\u001b[1;32m   (...)\u001b[0m\n\u001b[0;32m     35\u001b[0m         \u001b[38;5;124m'\u001b[39m\u001b[38;5;124mresidual\u001b[39m\u001b[38;5;124m'\u001b[39m: de\u001b[38;5;241m.\u001b[39mloss_list[\u001b[38;5;241m-\u001b[39m\u001b[38;5;241m1\u001b[39m]\n\u001b[0;32m     36\u001b[0m     })\n\u001b[0;32m     38\u001b[0m \u001b[38;5;66;03m# Write the results to a CSV file\u001b[39;00m\n\u001b[1;32m---> 39\u001b[0m \u001b[38;5;28;01mwith\u001b[39;00m \u001b[38;5;28;43mopen\u001b[39;49m\u001b[43m(\u001b[49m\u001b[38;5;124;43m'\u001b[39;49m\u001b[38;5;124;43m./data/results_\u001b[39;49m\u001b[38;5;132;43;01m{0}\u001b[39;49;00m\u001b[38;5;124;43m_mask20.csv\u001b[39;49m\u001b[38;5;124;43m'\u001b[39;49m\u001b[38;5;241;43m.\u001b[39;49m\u001b[43mformat\u001b[49m\u001b[43m(\u001b[49m\u001b[43mmethod\u001b[49m\u001b[43m)\u001b[49m\u001b[43m,\u001b[49m\u001b[43m \u001b[49m\u001b[38;5;124;43m'\u001b[39;49m\u001b[38;5;124;43mw\u001b[39;49m\u001b[38;5;124;43m'\u001b[39;49m\u001b[43m,\u001b[49m\u001b[43m \u001b[49m\u001b[43mnewline\u001b[49m\u001b[38;5;241;43m=\u001b[39;49m\u001b[38;5;124;43m'\u001b[39;49m\u001b[38;5;124;43m'\u001b[39;49m\u001b[43m)\u001b[49m \u001b[38;5;28;01mas\u001b[39;00m csvfile:\n\u001b[0;32m     40\u001b[0m     fieldnames \u001b[38;5;241m=\u001b[39m [\u001b[38;5;124m'\u001b[39m\u001b[38;5;124mrun\u001b[39m\u001b[38;5;124m'\u001b[39m, \u001b[38;5;124m'\u001b[39m\u001b[38;5;124mmethod\u001b[39m\u001b[38;5;124m'\u001b[39m, \u001b[38;5;124m'\u001b[39m\u001b[38;5;124mb\u001b[39m\u001b[38;5;124m'\u001b[39m, \u001b[38;5;124m'\u001b[39m\u001b[38;5;124momega\u001b[39m\u001b[38;5;124m'\u001b[39m, \u001b[38;5;124m'\u001b[39m\u001b[38;5;124mresidual\u001b[39m\u001b[38;5;124m'\u001b[39m]\n\u001b[0;32m     41\u001b[0m     writer \u001b[38;5;241m=\u001b[39m csv\u001b[38;5;241m.\u001b[39mDictWriter(csvfile, fieldnames\u001b[38;5;241m=\u001b[39mfieldnames)\n",
      "File \u001b[1;32mD:\\math\\anaconda\\envs\\python\\lib\\site-packages\\IPython\\core\\interactiveshell.py:284\u001b[0m, in \u001b[0;36m_modified_open\u001b[1;34m(file, *args, **kwargs)\u001b[0m\n\u001b[0;32m    277\u001b[0m \u001b[38;5;28;01mif\u001b[39;00m file \u001b[38;5;129;01min\u001b[39;00m {\u001b[38;5;241m0\u001b[39m, \u001b[38;5;241m1\u001b[39m, \u001b[38;5;241m2\u001b[39m}:\n\u001b[0;32m    278\u001b[0m     \u001b[38;5;28;01mraise\u001b[39;00m \u001b[38;5;167;01mValueError\u001b[39;00m(\n\u001b[0;32m    279\u001b[0m         \u001b[38;5;124mf\u001b[39m\u001b[38;5;124m\"\u001b[39m\u001b[38;5;124mIPython won\u001b[39m\u001b[38;5;124m'\u001b[39m\u001b[38;5;124mt let you open fd=\u001b[39m\u001b[38;5;132;01m{\u001b[39;00mfile\u001b[38;5;132;01m}\u001b[39;00m\u001b[38;5;124m by default \u001b[39m\u001b[38;5;124m\"\u001b[39m\n\u001b[0;32m    280\u001b[0m         \u001b[38;5;124m\"\u001b[39m\u001b[38;5;124mas it is likely to crash IPython. If you know what you are doing, \u001b[39m\u001b[38;5;124m\"\u001b[39m\n\u001b[0;32m    281\u001b[0m         \u001b[38;5;124m\"\u001b[39m\u001b[38;5;124myou can use builtins\u001b[39m\u001b[38;5;124m'\u001b[39m\u001b[38;5;124m open.\u001b[39m\u001b[38;5;124m\"\u001b[39m\n\u001b[0;32m    282\u001b[0m     )\n\u001b[1;32m--> 284\u001b[0m \u001b[38;5;28;01mreturn\u001b[39;00m io_open(file, \u001b[38;5;241m*\u001b[39margs, \u001b[38;5;241m*\u001b[39m\u001b[38;5;241m*\u001b[39mkwargs)\n",
      "\u001b[1;31mPermissionError\u001b[0m: [Errno 13] Permission denied: './data/results_QI_DE_mask20.csv'"
     ]
    }
   ],
   "source": [
    "import csv\n",
    "\n",
    "n_runs = 12\n",
    "# Create a list to store the results\n",
    "results = []\n",
    "method = 'QI_DE'\n",
    "xdata = np.loadtxt('xdata.txt')\n",
    "ydata = np.loadtxt('ydata_noisy5dB.txt')\n",
    "# xdata = np.loadtxt('xdata.txt')\n",
    "# ydata = np.loadtxt('data150_6.txt')\n",
    "\n",
    "for i in range(n_runs):\n",
    "#     # Mask 20% of the data\n",
    "#     n_mask = int(len(ydata) * 0.2)\n",
    "#     mask_indices = np.random.choice(len(ydata), size=n_mask, replace=False)\n",
    "#     ydata_masked = ydata.copy()\n",
    "#     ydata_masked[mask_indices] = np.nan\n",
    "    \n",
    "#     mask = np.logical_not(np.isnan(ydata_masked))\n",
    "#     # Apply the mask to the data\n",
    "#     xdata = xdata[mask]\n",
    "#     ydata = ydata[mask]\n",
    "    \n",
    "    # Fit the model to the data using the least squares method\n",
    "    #result = model.fit(ydata, params, x=xdata, method=method)\n",
    "    de = QuantumInspiredDE(xdata, ydata)\n",
    "    de.optimize()\n",
    "    \n",
    "    # Record the results\n",
    "    results.append({\n",
    "        'run': i + 1,\n",
    "        'method': method,\n",
    "        'b': de.best_pop[1],\n",
    "        'omega': de.best_pop[2],\n",
    "        'residual': de.loss_list[-1]\n",
    "    })\n",
    "\n",
    "# Write the results to a CSV file\n",
    "with open('./data/results_{0}_mask20.csv'.format(method), 'w', newline='') as csvfile:\n",
    "    fieldnames = ['run', 'method', 'b', 'omega', 'residual']\n",
    "    writer = csv.DictWriter(csvfile, fieldnames=fieldnames)\n",
    "\n",
    "    writer.writeheader()\n",
    "    for result in results:\n",
    "        writer.writerow(result)\n",
    "\n",
    "# Print the fit results for the last run\n",
    "print(\"Results using least sq:\")\n",
    "# print(fit_report(result))"
   ]
  },
  {
   "cell_type": "code",
   "execution_count": null,
   "id": "7eed4bb1",
   "metadata": {},
   "outputs": [],
   "source": []
  }
 ],
 "metadata": {
  "kernelspec": {
   "display_name": "Python 3 (ipykernel)",
   "language": "python",
   "name": "python3"
  },
  "language_info": {
   "codemirror_mode": {
    "name": "ipython",
    "version": 3
   },
   "file_extension": ".py",
   "mimetype": "text/x-python",
   "name": "python",
   "nbconvert_exporter": "python",
   "pygments_lexer": "ipython3",
   "version": "3.9.16"
  }
 },
 "nbformat": 4,
 "nbformat_minor": 5
}
