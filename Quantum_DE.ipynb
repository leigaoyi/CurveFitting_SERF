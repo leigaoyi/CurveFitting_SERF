{
 "cells": [
  {
   "cell_type": "code",
   "execution_count": null,
   "id": "8ef54366",
   "metadata": {},
   "outputs": [],
   "source": []
  },
  {
   "cell_type": "code",
   "execution_count": null,
   "id": "691de46a",
   "metadata": {},
   "outputs": [],
   "source": []
  },
  {
   "cell_type": "code",
   "execution_count": 126,
   "id": "91fbf0f2",
   "metadata": {},
   "outputs": [],
   "source": [
    "import numpy as np\n",
    "from pyDOE import lhs\n",
    "from scipy.stats import entropy,wasserstein_distance\n",
    "from scipy.spatial.distance import jensenshannon\n",
    "\n",
    "class QuantumInspiredDE:\n",
    "    def __init__(self, xdata, ydata, pop_size=15, max_iterations=500):\n",
    "        self.xdata = xdata\n",
    "        self.ydata = ydata\n",
    "        self.pop_size = pop_size\n",
    "        self.max_iterations = max_iterations\n",
    "        self.n_params = 5\n",
    "        self.param_bounds = [(0, 5), (0, 5), (0, 2*np.pi), (0, 5), (0, 5)]\n",
    "        self.success_degree = 0.5\n",
    "        self.loss_list = []\n",
    "        self.success_rate = 0.0\n",
    "        self.population = None\n",
    "        self.best_pop = None\n",
    "\n",
    "    def func(self, x, params):\n",
    "        a, b, omega, phi, c = params\n",
    "        return a * np.exp(-b * x) * np.sin(omega * x + phi) + c\n",
    "\n",
    "    def func_F0(self):\n",
    "        x = np.random.uniform(0, 1)\n",
    "        F0 = 2/np.sqrt(3)*np.pi**(-1/4)*(1-x**2)*np.exp(-x**2/2)\n",
    "        return F0\n",
    "\n",
    "    def objective_function_L2(self, params):\n",
    "        y_pred = self.func(self.xdata, params)\n",
    "        error = self.ydata - y_pred\n",
    "        return np.sum(error**2)\n",
    "    \n",
    "    def objective_function_entropy(self, params):\n",
    "        y_pred = self.func(self.xdata, params)\n",
    "        error = self.ydata - y_pred\n",
    "        return entropy(self.ydata, y_pred)\n",
    "    \n",
    "    def objective_function(self, params):\n",
    "        y_pred = self.func(self.xdata, params)\n",
    "        error = self.ydata - y_pred\n",
    "        return np.sum(error**2)\n",
    "    \n",
    "\n",
    "    def mutation_strategy(self, population, F=0.8, CR=0.7):\n",
    "        trial_population = np.zeros_like(population)\n",
    "        if self.success_rate > self.success_degree:\n",
    "            CR += 0.05\n",
    "        else:\n",
    "            CR -= 0.05\n",
    "        CR = np.clip(CR, 0.2, 0.9)\n",
    "        \n",
    "        if F is None:\n",
    "            F = 0.8\n",
    "\n",
    "        if self.success_rate > self.success_degree:\n",
    "            F *= 1.1\n",
    "        else:\n",
    "            F *= 0.9\n",
    "\n",
    "        F = np.clip(F, 0.2, 1.0)\n",
    "\n",
    "        for i in range(len(population)):\n",
    "            a, b, c = population[np.random.choice(len(population), size=3, replace=False)]\n",
    "\n",
    "            neg_part = np.where(b-c < 0, b-c, 0) \n",
    "            random_neg = np.random.uniform(neg_part, 0, size=np.shape(neg_part))\n",
    "            pos_part = np.where(b-c > 0, b-c, 0)\n",
    "            random_pos = np.random.uniform(0, pos_part, size=np.shape(pos_part))\n",
    "\n",
    "            random_quantum = random_neg + random_pos\n",
    "            mutant = np.clip(a + F * random_quantum, 0, 5)\n",
    "\n",
    "            crossover_mask = np.random.rand(self.n_params) < CR\n",
    "            trial = np.where(crossover_mask, mutant, population[i])\n",
    "\n",
    "            if np.array_equal(trial, population[i]):\n",
    "                j = np.random.choice(self.n_params)\n",
    "                trial[j] = mutant[j]\n",
    "\n",
    "            trial_population[i] = trial\n",
    "            \n",
    "\n",
    "        return trial_population\n",
    "\n",
    "    def convergence_criterion_met(self, param):\n",
    "#         if np.min(param) < 5e-3:\n",
    "#             return True\n",
    "#         else:\n",
    "        return False\n",
    "\n",
    "    def fitness(self, population):\n",
    "        fitting = [self.objective_function(params) for params in population]  \n",
    "        #print(fitting)\n",
    "        return fitting\n",
    "\n",
    "    def optimize(self):\n",
    "        # Generate initial population\n",
    "        lhs_samples = lhs(len(self.param_bounds), samples=self.pop_size, criterion='maximin')\n",
    "        self.population = np.zeros((self.pop_size, len(self.param_bounds)))\n",
    "        for i, bounds in enumerate(self.param_bounds):\n",
    "            self.population[:, i] = bounds[0] + lhs_samples[:, i] * (bounds[1] - bounds[0])\n",
    "\n",
    "        # Iterate over generations\n",
    "        for i in range(self.max_iterations):            \n",
    "            trial_population = self.mutation_strategy(self.population, F=self.success_rate)\n",
    "            trial_fitness = self.fitness(trial_population)\n",
    "            origin_fitness = self.fitness(self.population)\n",
    "            best_index = np.argmin(trial_fitness)\n",
    "\n",
    "            self.success_rate = 0.0\n",
    "            for j in range(self.pop_size):\n",
    "                if trial_fitness[j] < origin_fitness[j]:\n",
    "                    self.success_rate += 1.0\n",
    "            self.success_rate /= self.pop_size\n",
    "\n",
    "            if trial_fitness[best_index] < self.fitness(self.population)[best_index]:\n",
    "                self.population[best_index] = trial_population[best_index]\n",
    "\n",
    "            self.loss_list.append(self.objective_function_L2(self.population[best_index]))\n",
    "\n",
    "            if self.convergence_criterion_met(self.fitness(self.population)):\n",
    "                print('Convergence criterion met.')\n",
    "                break\n",
    "        self.best_pop = self.population[best_index]\n",
    "        print('Quantum-inspired DE result:', self.population[best_index], self.loss_list[-1])\n",
    "\n"
   ]
  },
  {
   "cell_type": "code",
   "execution_count": 127,
   "id": "13840719",
   "metadata": {},
   "outputs": [
    {
     "name": "stdout",
     "output_type": "stream",
     "text": [
      "Quantum-inspired DE result: [0.09263583 0.18913224 1.75712778 1.82585119 2.59106011] 0.007326359795347455\n"
     ]
    },
    {
     "data": {
      "image/png": "[encoded data removed]",
      "text/plain": [
       "<Figure size 640x480 with 1 Axes>"
      ]
     },
     "metadata": {},
     "output_type": "display_data"
    }
   ],
   "source": [
    "xdata = np.loadtxt('xdata.txt')\n",
    "ydata = np.loadtxt('data150_6.txt')\n",
    "\n",
    "de = QuantumInspiredDE(xdata, ydata)\n",
    "de.optimize()\n",
    "\n",
    "import matplotlib.pyplot as plt\n",
    "plt.semilogy(range(1, len(de.loss_list)+1), de.loss_list)\n",
    "plt.xlabel('Iteration')\n",
    "plt.ylabel('Loss (log-scale)')\n",
    "plt.title('Quantum Inspired Optimization Progress')\n",
    "plt.show()\n"
   ]
  },
  {
   "cell_type": "code",
   "execution_count": 128,
   "id": "6622fdfe",
   "metadata": {},
   "outputs": [
    {
     "data": {
      "text/plain": [
       "array([0.09263583, 0.18913224, 1.75712778, 1.82585119, 2.59106011])"
      ]
     },
     "execution_count": 128,
     "metadata": {},
     "output_type": "execute_result"
    }
   ],
   "source": [
    "de.best_pop"
   ]
  },
  {
   "cell_type": "code",
   "execution_count": 129,
   "id": "feb9bc72",
   "metadata": {},
   "outputs": [],
   "source": [
    "# Inspried DE  [0.09266477 0.18910248 1.75727822 1.82425376 2.59106498] 0.0073221572179695\n",
    "\n"
   ]
  },
  {
   "cell_type": "code",
   "execution_count": 130,
   "id": "25b88da3",
   "metadata": {},
   "outputs": [
    {
     "name": "stdout",
     "output_type": "stream",
     "text": [
      "Quantum-inspired DE result: [0.09126108 0.18463803 1.76401859 1.86968091 2.59164282] 29.92589843469367\n",
      "Quantum-inspired DE result: [0.09078561 0.18682245 1.76249663 1.86492314 2.59186658] 29.925262854841886\n",
      "Quantum-inspired DE result: [0.09069622 0.18656606 1.76259437 1.86466358 2.59187056] 29.925263779319668\n",
      "Quantum-inspired DE result: [0.09075232 0.1868034  1.76255633 1.86472264 2.59185928] 29.925263150271082\n",
      "Quantum-inspired DE result: [0.09079618 0.18686295 1.76245204 1.86516825 2.59186504] 29.925262884961487\n",
      "Quantum-inspired DE result: [0.09074811 0.18655758 1.76271611 1.86477754 2.59187195] 29.92526448612594\n",
      "Quantum-inspired DE result: [0.09060499 0.18725574 1.7634751  1.86237365 2.591849  ] 29.92528576853797\n",
      "Quantum-inspired DE result: [0.09079073 0.18683378 1.76252002 1.86489421 2.59186471] 29.925262827115684\n",
      "Quantum-inspired DE result: [0.09079023 0.18686361 1.76251573 1.86482618 2.59186249] 29.925262881616987\n",
      "Quantum-inspired DE result: [0.09187855 0.1890639  1.76284356 1.86709753 2.59177982] 29.925399899070676\n",
      "Quantum-inspired DE result: [0.09078709 0.18681352 1.76247939 1.86499825 2.59186481] 29.925262847643594\n",
      "Quantum-inspired DE result: [0.44328009 1.31691087 0.69165177 2.78101203 2.59240607] 30.549117828773035\n"
     ]
    },
    {
     "ename": "PermissionError",
     "evalue": "[Errno 13] Permission denied: './data/results_QI_DE_mask20.csv'",
     "output_type": "error",
     "traceback": [
      "\u001b[1;31m---------------------------------------------------------------------------\u001b[0m",
      "\u001b[1;31mPermissionError\u001b[0m                           Traceback (most recent call last)",
      "Cell \u001b[1;32mIn[130], line 39\u001b[0m\n\u001b[0;32m     30\u001b[0m     results\u001b[38;5;241m.\u001b[39mappend({\n\u001b[0;32m     31\u001b[0m         \u001b[38;5;124m'\u001b[39m\u001b[38;5;124mrun\u001b[39m\u001b[38;5;124m'\u001b[39m: i \u001b[38;5;241m+\u001b[39m \u001b[38;5;241m1\u001b[39m,\n\u001b[0;32m     32\u001b[0m         \u001b[38;5;124m'\u001b[39m\u001b[38;5;124mmethod\u001b[39m\u001b[38;5;124m'\u001b[39m: method,\n\u001b[1;32m   (...)\u001b[0m\n\u001b[0;32m     35\u001b[0m         \u001b[38;5;124m'\u001b[39m\u001b[38;5;124mresidual\u001b[39m\u001b[38;5;124m'\u001b[39m: de\u001b[38;5;241m.\u001b[39mloss_list[\u001b[38;5;241m-\u001b[39m\u001b[38;5;241m1\u001b[39m]\n\u001b[0;32m     36\u001b[0m     })\n\u001b[0;32m     38\u001b[0m \u001b[38;5;66;03m# Write the results to a CSV file\u001b[39;00m\n\u001b[1;32m---> 39\u001b[0m \u001b[38;5;28;01mwith\u001b[39;00m \u001b[38;5;28;43mopen\u001b[39;49m\u001b[43m(\u001b[49m\u001b[38;5;124;43m'\u001b[39;49m\u001b[38;5;124;43m./data/results_\u001b[39;49m\u001b[38;5;132;43;01m{0}\u001b[39;49;00m\u001b[38;5;124;43m_mask20.csv\u001b[39;49m\u001b[38;5;124;43m'\u001b[39;49m\u001b[38;5;241;43m.\u001b[39;49m\u001b[43mformat\u001b[49m\u001b[43m(\u001b[49m\u001b[43mmethod\u001b[49m\u001b[43m)\u001b[49m\u001b[43m,\u001b[49m\u001b[43m \u001b[49m\u001b[38;5;124;43m'\u001b[39;49m\u001b[38;5;124;43mw\u001b[39;49m\u001b[38;5;124;43m'\u001b[39;49m\u001b[43m,\u001b[49m\u001b[43m \u001b[49m\u001b[43mnewline\u001b[49m\u001b[38;5;241;43m=\u001b[39;49m\u001b[38;5;124;43m'\u001b[39;49m\u001b[38;5;124;43m'\u001b[39;49m\u001b[43m)\u001b[49m \u001b[38;5;28;01mas\u001b[39;00m csvfile:\n\u001b[0;32m     40\u001b[0m     fieldnames \u001b[38;5;241m=\u001b[39m [\u001b[38;5;124m'\u001b[39m\u001b[38;5;124mrun\u001b[39m\u001b[38;5;124m'\u001b[39m, \u001b[38;5;124m'\u001b[39m\u001b[38;5;124mmethod\u001b[39m\u001b[38;5;124m'\u001b[39m, \u001b[38;5;124m'\u001b[39m\u001b[38;5;124mb\u001b[39m\u001b[38;5;124m'\u001b[39m, \u001b[38;5;124m'\u001b[39m\u001b[38;5;124momega\u001b[39m\u001b[38;5;124m'\u001b[39m, \u001b[38;5;124m'\u001b[39m\u001b[38;5;124mresidual\u001b[39m\u001b[38;5;124m'\u001b[39m]\n\u001b[0;32m     41\u001b[0m     writer \u001b[38;5;241m=\u001b[39m csv\u001b[38;5;241m.\u001b[39mDictWriter(csvfile, fieldnames\u001b[38;5;241m=\u001b[39mfieldnames)\n",
      "File \u001b[1;32mD:\\math\\anaconda\\envs\\python\\lib\\site-packages\\IPython\\core\\interactiveshell.py:284\u001b[0m, in \u001b[0;36m_modified_open\u001b[1;34m(file, *args, **kwargs)\u001b[0m\n\u001b[0;32m    277\u001b[0m \u001b[38;5;28;01mif\u001b[39;00m file \u001b[38;5;129;01min\u001b[39;00m {\u001b[38;5;241m0\u001b[39m, \u001b[38;5;241m1\u001b[39m, \u001b[38;5;241m2\u001b[39m}:\n\u001b[0;32m    278\u001b[0m     \u001b[38;5;28;01mraise\u001b[39;00m \u001b[38;5;167;01mValueError\u001b[39;00m(\n\u001b[0;32m    279\u001b[0m         \u001b[38;5;124mf\u001b[39m\u001b[38;5;124m\"\u001b[39m\u001b[38;5;124mIPython won\u001b[39m\u001b[38;5;124m'\u001b[39m\u001b[38;5;124mt let you open fd=\u001b[39m\u001b[38;5;132;01m{\u001b[39;00mfile\u001b[38;5;132;01m}\u001b[39;00m\u001b[38;5;124m by default \u001b[39m\u001b[38;5;124m\"\u001b[39m\n\u001b[0;32m    280\u001b[0m         \u001b[38;5;124m\"\u001b[39m\u001b[38;5;124mas it is likely to crash IPython. If you know what you are doing, \u001b[39m\u001b[38;5;124m\"\u001b[39m\n\u001b[0;32m    281\u001b[0m         \u001b[38;5;124m\"\u001b[39m\u001b[38;5;124myou can use builtins\u001b[39m\u001b[38;5;124m'\u001b[39m\u001b[38;5;124m open.\u001b[39m\u001b[38;5;124m\"\u001b[39m\n\u001b[0;32m    282\u001b[0m     )\n\u001b[1;32m--> 284\u001b[0m \u001b[38;5;28;01mreturn\u001b[39;00m io_open(file, \u001b[38;5;241m*\u001b[39margs, \u001b[38;5;241m*\u001b[39m\u001b[38;5;241m*\u001b[39mkwargs)\n",
      "\u001b[1;31mPermissionError\u001b[0m: [Errno 13] Permission denied: './data/results_QI_DE_mask20.csv'"
     ]
    }
   ],
   "source": [
    "import csv\n",
    "\n",
    "n_runs = 12\n",
    "# Create a list to store the results\n",
    "results = []\n",
    "method = 'QI_DE'\n",
    "xdata = np.loadtxt('xdata.txt')\n",
    "ydata = np.loadtxt('ydata_noisy5dB.txt')\n",
    "# xdata = np.loadtxt('xdata.txt')\n",
    "# ydata = np.loadtxt('data150_6.txt')\n",
    "\n",
    "for i in range(n_runs):\n",
    "#     # Mask 20% of the data\n",
    "#     n_mask = int(len(ydata) * 0.2)\n",
    "#     mask_indices = np.random.choice(len(ydata), size=n_mask, replace=False)\n",
    "#     ydata_masked = ydata.copy()\n",
    "#     ydata_masked[mask_indices] = np.nan\n",
    "    \n",
    "#     mask = np.logical_not(np.isnan(ydata_masked))\n",
    "#     # Apply the mask to the data\n",
    "#     xdata = xdata[mask]\n",
    "#     ydata = ydata[mask]\n",
    "    \n",
    "    # Fit the model to the data using the least squares method\n",
    "    #result = model.fit(ydata, params, x=xdata, method=method)\n",
    "    de = QuantumInspiredDE(xdata, ydata)\n",
    "    de.optimize()\n",
    "    \n",
    "    # Record the results\n",
    "    results.append({\n",
    "        'run': i + 1,\n",
    "        'method': method,\n",
    "        'b': de.best_pop[1],\n",
    "        'omega': de.best_pop[2],\n",
    "        'residual': de.loss_list[-1]\n",
    "    })\n",
    "\n",
    "# Write the results to a CSV file\n",
    "with open('./data/results_{0}_mask20.csv'.format(method), 'w', newline='') as csvfile:\n",
    "    fieldnames = ['run', 'method', 'b', 'omega', 'residual']\n",
    "    writer = csv.DictWriter(csvfile, fieldnames=fieldnames)\n",
    "\n",
    "    writer.writeheader()\n",
    "    for result in results:\n",
    "        writer.writerow(result)\n",
    "\n",
    "# Print the fit results for the last run\n",
    "print(\"Results using least sq:\")\n",
    "# print(fit_report(result))"
   ]
  },
  {
   "cell_type": "code",
   "execution_count": null,
   "id": "3b6464ab",
   "metadata": {},
   "outputs": [],
   "source": []
  }
 ],
 "metadata": {
  "kernelspec": {
   "display_name": "Python 3 (ipykernel)",
   "language": "python",
   "name": "python3"
  },
  "language_info": {
   "codemirror_mode": {
    "name": "ipython",
    "version": 3
   },
   "file_extension": ".py",
   "mimetype": "text/x-python",
   "name": "python",
   "nbconvert_exporter": "python",
   "pygments_lexer": "ipython3",
   "version": "3.9.16"
  }
 },
 "nbformat": 4,
 "nbformat_minor": 5
}
